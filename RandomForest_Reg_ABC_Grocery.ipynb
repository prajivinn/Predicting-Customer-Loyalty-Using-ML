{
 "cells": [
  {
   "cell_type": "code",
   "execution_count": 12,
   "id": "91721ca5",
   "metadata": {},
   "outputs": [],
   "source": [
    "import pandas as pd\n",
    "import pickle\n",
    "import matplotlib.pyplot as plt\n",
    "\n",
    "from sklearn.ensemble import RandomForestRegressor\n",
    "from sklearn.utils import shuffle\n",
    "from sklearn.model_selection import train_test_split, cross_val_score, KFold\n",
    "from sklearn.metrics import r2_score\n",
    "from sklearn.preprocessing import OneHotEncoder\n",
    "from sklearn.inspection import permutation_importance\n",
    "\n",
    "\n",
    "# permutation feature importance and feature importance based on MSE gives simular results but\n",
    "# permutation method is good for numerical features\n"
   ]
  },
  {
   "cell_type": "code",
   "execution_count": 2,
   "id": "a751a69f",
   "metadata": {},
   "outputs": [],
   "source": [
    "# Importing the data stored as pickle file\n",
    "\n",
    "data_for_model = pickle.load(open('/Users/praju/Desktop/DSI/Untitled Folder/abc_regression_modelling.p', \"rb\"))\n",
    "#rb = reading a file rather than writing 'wb' as writing as a file.\n"
   ]
  },
  {
   "cell_type": "code",
   "execution_count": 3,
   "id": "302e6679",
   "metadata": {},
   "outputs": [
    {
     "data": {
      "text/html": [
       "<div>\n",
       "<style scoped>\n",
       "    .dataframe tbody tr th:only-of-type {\n",
       "        vertical-align: middle;\n",
       "    }\n",
       "\n",
       "    .dataframe tbody tr th {\n",
       "        vertical-align: top;\n",
       "    }\n",
       "\n",
       "    .dataframe thead th {\n",
       "        text-align: right;\n",
       "    }\n",
       "</style>\n",
       "<table border=\"1\" class=\"dataframe\">\n",
       "  <thead>\n",
       "    <tr style=\"text-align: right;\">\n",
       "      <th></th>\n",
       "      <th>customer_id</th>\n",
       "      <th>distance_from_store</th>\n",
       "      <th>gender</th>\n",
       "      <th>credit_score</th>\n",
       "      <th>customer_loyalty_score</th>\n",
       "      <th>total_sales</th>\n",
       "      <th>total_items</th>\n",
       "      <th>transaction_count</th>\n",
       "      <th>product_area_count</th>\n",
       "      <th>average_basket_value</th>\n",
       "    </tr>\n",
       "  </thead>\n",
       "  <tbody>\n",
       "    <tr>\n",
       "      <th>0</th>\n",
       "      <td>74</td>\n",
       "      <td>3.38</td>\n",
       "      <td>F</td>\n",
       "      <td>0.59</td>\n",
       "      <td>0.263</td>\n",
       "      <td>2563.71</td>\n",
       "      <td>297</td>\n",
       "      <td>44</td>\n",
       "      <td>5</td>\n",
       "      <td>58.266136</td>\n",
       "    </tr>\n",
       "    <tr>\n",
       "      <th>1</th>\n",
       "      <td>524</td>\n",
       "      <td>4.76</td>\n",
       "      <td>F</td>\n",
       "      <td>0.52</td>\n",
       "      <td>0.298</td>\n",
       "      <td>2996.02</td>\n",
       "      <td>357</td>\n",
       "      <td>49</td>\n",
       "      <td>5</td>\n",
       "      <td>61.143265</td>\n",
       "    </tr>\n",
       "    <tr>\n",
       "      <th>2</th>\n",
       "      <td>607</td>\n",
       "      <td>4.45</td>\n",
       "      <td>F</td>\n",
       "      <td>0.49</td>\n",
       "      <td>0.337</td>\n",
       "      <td>2853.82</td>\n",
       "      <td>350</td>\n",
       "      <td>49</td>\n",
       "      <td>5</td>\n",
       "      <td>58.241224</td>\n",
       "    </tr>\n",
       "    <tr>\n",
       "      <th>3</th>\n",
       "      <td>343</td>\n",
       "      <td>0.91</td>\n",
       "      <td>M</td>\n",
       "      <td>0.54</td>\n",
       "      <td>0.873</td>\n",
       "      <td>2388.31</td>\n",
       "      <td>272</td>\n",
       "      <td>54</td>\n",
       "      <td>5</td>\n",
       "      <td>44.227963</td>\n",
       "    </tr>\n",
       "    <tr>\n",
       "      <th>4</th>\n",
       "      <td>322</td>\n",
       "      <td>3.02</td>\n",
       "      <td>F</td>\n",
       "      <td>0.63</td>\n",
       "      <td>0.350</td>\n",
       "      <td>2401.64</td>\n",
       "      <td>278</td>\n",
       "      <td>50</td>\n",
       "      <td>5</td>\n",
       "      <td>48.032800</td>\n",
       "    </tr>\n",
       "  </tbody>\n",
       "</table>\n",
       "</div>"
      ],
      "text/plain": [
       "   customer_id  distance_from_store gender  credit_score  \\\n",
       "0           74                 3.38      F          0.59   \n",
       "1          524                 4.76      F          0.52   \n",
       "2          607                 4.45      F          0.49   \n",
       "3          343                 0.91      M          0.54   \n",
       "4          322                 3.02      F          0.63   \n",
       "\n",
       "   customer_loyalty_score  total_sales  total_items  transaction_count  \\\n",
       "0                   0.263      2563.71          297                 44   \n",
       "1                   0.298      2996.02          357                 49   \n",
       "2                   0.337      2853.82          350                 49   \n",
       "3                   0.873      2388.31          272                 54   \n",
       "4                   0.350      2401.64          278                 50   \n",
       "\n",
       "   product_area_count  average_basket_value  \n",
       "0                   5             58.266136  \n",
       "1                   5             61.143265  \n",
       "2                   5             58.241224  \n",
       "3                   5             44.227963  \n",
       "4                   5             48.032800  "
      ]
     },
     "execution_count": 3,
     "metadata": {},
     "output_type": "execute_result"
    }
   ],
   "source": [
    "data_for_model.head()"
   ]
  },
  {
   "cell_type": "code",
   "execution_count": 4,
   "id": "75048cc7",
   "metadata": {},
   "outputs": [
    {
     "name": "stdout",
     "output_type": "stream",
     "text": [
      "<class 'pandas.core.frame.DataFrame'>\n",
      "Int64Index: 400 entries, 0 to 869\n",
      "Data columns (total 10 columns):\n",
      " #   Column                  Non-Null Count  Dtype  \n",
      "---  ------                  --------------  -----  \n",
      " 0   customer_id             400 non-null    int64  \n",
      " 1   distance_from_store     398 non-null    float64\n",
      " 2   gender                  397 non-null    object \n",
      " 3   credit_score            398 non-null    float64\n",
      " 4   customer_loyalty_score  400 non-null    float64\n",
      " 5   total_sales             400 non-null    float64\n",
      " 6   total_items             400 non-null    int64  \n",
      " 7   transaction_count       400 non-null    int64  \n",
      " 8   product_area_count      400 non-null    int64  \n",
      " 9   average_basket_value    400 non-null    float64\n",
      "dtypes: float64(5), int64(4), object(1)\n",
      "memory usage: 34.4+ KB\n"
     ]
    }
   ],
   "source": [
    "data_for_model.info()"
   ]
  },
  {
   "cell_type": "code",
   "execution_count": 5,
   "id": "651a3c5c",
   "metadata": {},
   "outputs": [],
   "source": [
    "data_for_model.drop('customer_id',axis=1,inplace=True)"
   ]
  },
  {
   "cell_type": "code",
   "execution_count": 6,
   "id": "c3ba65d2",
   "metadata": {},
   "outputs": [
    {
     "data": {
      "text/plain": [
       "(400, 9)"
      ]
     },
     "execution_count": 6,
     "metadata": {},
     "output_type": "execute_result"
    }
   ],
   "source": [
    "data_for_model.shape"
   ]
  },
  {
   "cell_type": "code",
   "execution_count": 7,
   "id": "4cbe2ba3",
   "metadata": {},
   "outputs": [],
   "source": [
    "# Shuffle Data\n",
    "\n",
    "# if there are unknown order in data i.e sorted by customer number i.e sorted in longer term customer \n",
    "# to newer customers, this may or may not have the impact on the model and easy way to make sure it does'nt is to \n",
    "# always shuffle our data\n",
    "\n",
    "data_for_model = shuffle(data_for_model, random_state=42)"
   ]
  },
  {
   "cell_type": "code",
   "execution_count": 8,
   "id": "91ae312b",
   "metadata": {},
   "outputs": [
    {
     "data": {
      "text/html": [
       "<div>\n",
       "<style scoped>\n",
       "    .dataframe tbody tr th:only-of-type {\n",
       "        vertical-align: middle;\n",
       "    }\n",
       "\n",
       "    .dataframe tbody tr th {\n",
       "        vertical-align: top;\n",
       "    }\n",
       "\n",
       "    .dataframe thead th {\n",
       "        text-align: right;\n",
       "    }\n",
       "</style>\n",
       "<table border=\"1\" class=\"dataframe\">\n",
       "  <thead>\n",
       "    <tr style=\"text-align: right;\">\n",
       "      <th></th>\n",
       "      <th>distance_from_store</th>\n",
       "      <th>gender</th>\n",
       "      <th>credit_score</th>\n",
       "      <th>customer_loyalty_score</th>\n",
       "      <th>total_sales</th>\n",
       "      <th>total_items</th>\n",
       "      <th>transaction_count</th>\n",
       "      <th>product_area_count</th>\n",
       "      <th>average_basket_value</th>\n",
       "    </tr>\n",
       "  </thead>\n",
       "  <tbody>\n",
       "    <tr>\n",
       "      <th>455</th>\n",
       "      <td>0.28</td>\n",
       "      <td>M</td>\n",
       "      <td>0.81</td>\n",
       "      <td>0.889</td>\n",
       "      <td>990.65</td>\n",
       "      <td>243</td>\n",
       "      <td>53</td>\n",
       "      <td>4</td>\n",
       "      <td>18.691509</td>\n",
       "    </tr>\n",
       "    <tr>\n",
       "      <th>621</th>\n",
       "      <td>2.58</td>\n",
       "      <td>F</td>\n",
       "      <td>0.58</td>\n",
       "      <td>0.162</td>\n",
       "      <td>333.26</td>\n",
       "      <td>70</td>\n",
       "      <td>13</td>\n",
       "      <td>4</td>\n",
       "      <td>25.635385</td>\n",
       "    </tr>\n",
       "    <tr>\n",
       "      <th>64</th>\n",
       "      <td>0.80</td>\n",
       "      <td>M</td>\n",
       "      <td>0.80</td>\n",
       "      <td>0.956</td>\n",
       "      <td>1753.96</td>\n",
       "      <td>371</td>\n",
       "      <td>52</td>\n",
       "      <td>5</td>\n",
       "      <td>33.730000</td>\n",
       "    </tr>\n",
       "    <tr>\n",
       "      <th>456</th>\n",
       "      <td>0.16</td>\n",
       "      <td>M</td>\n",
       "      <td>0.56</td>\n",
       "      <td>0.926</td>\n",
       "      <td>929.57</td>\n",
       "      <td>225</td>\n",
       "      <td>51</td>\n",
       "      <td>4</td>\n",
       "      <td>18.226863</td>\n",
       "    </tr>\n",
       "    <tr>\n",
       "      <th>196</th>\n",
       "      <td>3.27</td>\n",
       "      <td>F</td>\n",
       "      <td>0.67</td>\n",
       "      <td>0.297</td>\n",
       "      <td>1904.55</td>\n",
       "      <td>376</td>\n",
       "      <td>36</td>\n",
       "      <td>3</td>\n",
       "      <td>52.904167</td>\n",
       "    </tr>\n",
       "  </tbody>\n",
       "</table>\n",
       "</div>"
      ],
      "text/plain": [
       "     distance_from_store gender  credit_score  customer_loyalty_score  \\\n",
       "455                 0.28      M          0.81                   0.889   \n",
       "621                 2.58      F          0.58                   0.162   \n",
       "64                  0.80      M          0.80                   0.956   \n",
       "456                 0.16      M          0.56                   0.926   \n",
       "196                 3.27      F          0.67                   0.297   \n",
       "\n",
       "     total_sales  total_items  transaction_count  product_area_count  \\\n",
       "455       990.65          243                 53                   4   \n",
       "621       333.26           70                 13                   4   \n",
       "64       1753.96          371                 52                   5   \n",
       "456       929.57          225                 51                   4   \n",
       "196      1904.55          376                 36                   3   \n",
       "\n",
       "     average_basket_value  \n",
       "455             18.691509  \n",
       "621             25.635385  \n",
       "64              33.730000  \n",
       "456             18.226863  \n",
       "196             52.904167  "
      ]
     },
     "execution_count": 8,
     "metadata": {},
     "output_type": "execute_result"
    }
   ],
   "source": [
    "data_for_model.head(5)"
   ]
  },
  {
   "cell_type": "code",
   "execution_count": 9,
   "id": "02b4f36b",
   "metadata": {},
   "outputs": [],
   "source": [
    "data_for_model.dropna(how='any', inplace=True)"
   ]
  },
  {
   "cell_type": "code",
   "execution_count": 10,
   "id": "252a4c17",
   "metadata": {},
   "outputs": [
    {
     "data": {
      "text/plain": [
       "distance_from_store       0\n",
       "gender                    0\n",
       "credit_score              0\n",
       "customer_loyalty_score    0\n",
       "total_sales               0\n",
       "total_items               0\n",
       "transaction_count         0\n",
       "product_area_count        0\n",
       "average_basket_value      0\n",
       "dtype: int64"
      ]
     },
     "execution_count": 10,
     "metadata": {},
     "output_type": "execute_result"
    }
   ],
   "source": [
    "data_for_model.isna().sum()"
   ]
  },
  {
   "cell_type": "code",
   "execution_count": 11,
   "id": "a172ae92",
   "metadata": {},
   "outputs": [],
   "source": [
    "# In random forest just like decision tree, no need to remove outliers\n",
    "# decision tree make split decisions based on the data either side of a line\n",
    "# they don't really care how far away a point is interms of the distance\n",
    "# so removing outliers won't change anything at all\n",
    "\n"
   ]
  },
  {
   "cell_type": "code",
   "execution_count": 13,
   "id": "83e4ac22",
   "metadata": {},
   "outputs": [],
   "source": [
    "# splitting input & output variable\n",
    "\n",
    "X = data_for_model.drop('customer_loyalty_score',axis=1)\n",
    "y = data_for_model['customer_loyalty_score']"
   ]
  },
  {
   "cell_type": "code",
   "execution_count": 14,
   "id": "a89ba714",
   "metadata": {},
   "outputs": [],
   "source": [
    "X_train,X_test,y_train,y_test = train_test_split(X,y,test_size=0.2,random_state=42)"
   ]
  },
  {
   "cell_type": "code",
   "execution_count": 15,
   "id": "a462161b",
   "metadata": {},
   "outputs": [
    {
     "name": "stdout",
     "output_type": "stream",
     "text": [
      "(315, 8)\n",
      "(79, 8)\n",
      "(315,)\n",
      "(79,)\n"
     ]
    }
   ],
   "source": [
    "print(X_train.shape)\n",
    "print(X_test.shape)\n",
    "print(y_train.shape)\n",
    "print(y_test.shape)"
   ]
  },
  {
   "cell_type": "code",
   "execution_count": 16,
   "id": "b0f49d47",
   "metadata": {},
   "outputs": [],
   "source": [
    "# decision tree still need data to be in numeric form\n",
    "\n",
    "# deal with categorical input variable\n",
    "\n",
    "categorical_vars = [\"gender\"]\n",
    "\n",
    "one_hot_encoder = OneHotEncoder(sparse=False,drop='first') # sparse = False means\n",
    "# it will return an array rather than a sparse matrix\n",
    "# meaning array will be easier to visualize\n",
    "# remove dummy variable for multicollinearity by using drop = first ( this is not so important in\n",
    "# decision trees & random forest, it would'nt have added anything, so its best to remove them from the mix)\n",
    "\n",
    "X_train_encoded=one_hot_encoder.fit_transform(X_train[categorical_vars])\n",
    "X_test_encoded=one_hot_encoder.transform(X_test[categorical_vars])\n",
    "\n",
    "encoder_feature_names = one_hot_encoder.get_feature_names(categorical_vars)\n",
    "\n",
    "X_train_encoded = pd.DataFrame(X_train_encoded,columns=encoder_feature_names)\n",
    "X_train = pd.concat([X_train.reset_index(drop=True),X_train_encoded.reset_index(drop=True)],axis=1)\n",
    "X_train.drop(categorical_vars,axis=1,inplace=True)\n",
    "\n",
    "X_test_encoded = pd.DataFrame(X_test_encoded,columns=encoder_feature_names)\n",
    "X_test = pd.concat([X_test.reset_index(drop=True),X_test_encoded.reset_index(drop=True)],axis=1)\n",
    "X_test.drop(categorical_vars,axis=1,inplace=True)"
   ]
  },
  {
   "cell_type": "code",
   "execution_count": 18,
   "id": "a673a88b",
   "metadata": {},
   "outputs": [
    {
     "data": {
      "text/plain": [
       "RandomForestRegressor(random_state=42)"
      ]
     },
     "execution_count": 18,
     "metadata": {},
     "output_type": "execute_result"
    }
   ],
   "source": [
    "regressor = RandomForestRegressor(random_state=42)\n",
    "regressor.fit(X_train,y_train)"
   ]
  },
  {
   "cell_type": "code",
   "execution_count": 17,
   "id": "b973ccb5",
   "metadata": {},
   "outputs": [],
   "source": [
    "# no need feature selection in decision tree\n",
    "\n",
    "\n",
    "# in decision tree each variable is judged independently\n",
    "# so if there is'nt any predictive power within an input variable , it will essentially be just be ignored anyway\n",
    "# in saying this, even though it is not strictly required , it is'nt necessarly a bad thing to do feature selection\n",
    "# and thus remove some features\n",
    "# if you are in a situation that have high number of input variables, reducing this to a subset that are strongly linked to\n",
    "# the output or target variable will mean much less computation is required\n",
    "# training & prediction must be quicker\n",
    "# to summarize applying feature selection won't make any difference to the performance of the decision tree\n",
    "# in terms of accuracy, but it could help with performance in terms of computation\n",
    "# since we are dealing with small number of input variables here we are going to remove this section of applying feature\n",
    "# selection."
   ]
  },
  {
   "cell_type": "code",
   "execution_count": 19,
   "id": "2bc3e757",
   "metadata": {},
   "outputs": [],
   "source": [
    "y_pred = regressor.predict(X_test)"
   ]
  },
  {
   "cell_type": "code",
   "execution_count": 20,
   "id": "2cebecb3",
   "metadata": {},
   "outputs": [
    {
     "name": "stdout",
     "output_type": "stream",
     "text": [
      "0.959697583473264\n"
     ]
    }
   ],
   "source": [
    "r_squared = r2_score(y_test,y_pred)\n",
    "print(r_squared)"
   ]
  },
  {
   "cell_type": "code",
   "execution_count": 21,
   "id": "b4338762",
   "metadata": {},
   "outputs": [
    {
     "name": "stdout",
     "output_type": "stream",
     "text": [
      "0.9248320106571228\n"
     ]
    }
   ],
   "source": [
    "cv = KFold(n_splits=4,shuffle=True,random_state=42)\n",
    "\n",
    "cv_scores1 = cross_val_score(regressor,X_train,y_train,cv=cv,scoring=\"r2\")\n",
    "\n",
    "print(cv_scores1.mean())"
   ]
  },
  {
   "cell_type": "code",
   "execution_count": 22,
   "id": "6f18cd7c",
   "metadata": {},
   "outputs": [
    {
     "name": "stdout",
     "output_type": "stream",
     "text": [
      "0.9550915930130656\n"
     ]
    }
   ],
   "source": [
    "num_data_points, num_input_vars = X_test.shape\n",
    "adjusted_r_squared = 1 - (1-r_squared)  * (num_data_points - 1) / (num_data_points - num_input_vars - 1)\n",
    "print(adjusted_r_squared)"
   ]
  },
  {
   "cell_type": "code",
   "execution_count": 24,
   "id": "f5a95d79",
   "metadata": {},
   "outputs": [
    {
     "name": "stdout",
     "output_type": "stream",
     "text": [
      "        input_variables  Feature_importance\n",
      "7  average_basket_value            0.010009\n",
      "1                gender            0.010709\n",
      "6    product_area_count            0.021625\n",
      "4           total_items            0.027484\n",
      "5     transaction_count            0.040601\n",
      "3           total_sales            0.097624\n",
      "2          credit_score            0.112214\n",
      "0   distance_from_store            0.679734\n"
     ]
    },
    {
     "data": {
      "image/png": "[encoded data removed]",
      "text/plain": [
       "<Figure size 432x288 with 1 Axes>"
      ]
     },
     "metadata": {
      "needs_background": "light"
     },
     "output_type": "display_data"
    }
   ],
   "source": [
    "feature_importance = pd.DataFrame(regressor.feature_importances_)\n",
    "feature_names = pd.DataFrame(X.columns)\n",
    "feature_importance_summary = pd.concat([feature_names,feature_importance],axis=1)\n",
    "feature_importance_summary.columns=['input_variables','Feature_importance']\n",
    "feature_importance_summary.sort_values(by='Feature_importance',inplace=True)\n",
    "print(feature_importance_summary)\n",
    "\n",
    "plt.barh(feature_importance_summary['input_variables'],feature_importance_summary['Feature_importance'])\n",
    "plt.title('Feature importance of Random Forest')\n",
    "plt.xlabel('Feature Importance')\n",
    "plt.tight_layout()\n",
    "plt.show()"
   ]
  },
  {
   "cell_type": "code",
   "execution_count": 25,
   "id": "013a215c",
   "metadata": {},
   "outputs": [
    {
     "name": "stdout",
     "output_type": "stream",
     "text": [
      "{'importances_mean': array([1.45410236e+00, 1.12212257e-03, 1.17425577e-01, 1.28328232e-01,\n",
      "       1.81334830e-02, 4.34815963e-02, 8.09052482e-03, 4.23971620e-03]), 'importances_std': array([0.18027374, 0.00123563, 0.02137461, 0.00971102, 0.00414825,\n",
      "       0.009169  , 0.00310793, 0.00152432]), 'importances': array([[ 1.35326657e+00,  1.32946448e+00,  1.23316338e+00,\n",
      "         1.14976811e+00,  1.67114274e+00,  1.49898361e+00,\n",
      "         1.70304098e+00,  1.49305468e+00,  1.44264431e+00,\n",
      "         1.66649473e+00],\n",
      "       [ 1.23820016e-03,  1.31312209e-03,  2.92815408e-04,\n",
      "         1.49150299e-03,  4.67705964e-04,  3.69793146e-03,\n",
      "        -1.42417340e-03,  1.70727165e-03,  1.71142756e-03,\n",
      "         7.25421797e-04],\n",
      "       [ 1.01333336e-01,  1.26675680e-01,  1.64790728e-01,\n",
      "         1.18411618e-01,  1.29986041e-01,  1.02399148e-01,\n",
      "         8.18453853e-02,  1.06454306e-01,  1.11647750e-01,\n",
      "         1.30711783e-01],\n",
      "       [ 1.16237318e-01,  1.39521397e-01,  1.28632124e-01,\n",
      "         1.24434932e-01,  1.46522357e-01,  1.35804799e-01,\n",
      "         1.24855715e-01,  1.14859386e-01,  1.20422662e-01,\n",
      "         1.31991633e-01],\n",
      "       [ 1.72923182e-02,  1.64293499e-02,  2.22773002e-02,\n",
      "         9.17909122e-03,  1.81641733e-02,  1.85907174e-02,\n",
      "         1.96206792e-02,  1.97042550e-02,  1.46085077e-02,\n",
      "         2.54684381e-02],\n",
      "       [ 4.43269171e-02,  4.15949450e-02,  4.99859191e-02,\n",
      "         2.62936774e-02,  5.28133280e-02,  5.23510791e-02,\n",
      "         2.80770883e-02,  4.66017034e-02,  4.05097907e-02,\n",
      "         5.22615152e-02],\n",
      "       [ 2.98548450e-03,  8.46796252e-03,  1.04257982e-02,\n",
      "         8.22649917e-03,  1.00381305e-02,  5.15840146e-03,\n",
      "         4.45618535e-03,  1.25083913e-02,  6.42258106e-03,\n",
      "         1.22158141e-02],\n",
      "       [ 5.81888305e-03,  6.83213579e-03,  3.56320769e-03,\n",
      "         5.35952073e-03,  2.33894965e-03,  2.41811122e-03,\n",
      "         2.53036676e-03,  3.50797713e-03,  5.61476003e-03,\n",
      "         4.41324991e-03]])}\n"
     ]
    }
   ],
   "source": [
    "# Permutation Importance\n",
    "\n",
    "# The permutation feature importance is seen as decrease in model performance/accuracy when a particular input\n",
    "# variables are randomly shuffled\n",
    "# randomly shuffled destroys any relationship would have with the output variable and thus\n",
    "# gives us a way to understand its importance as we can compare model performance with the shuffling \n",
    "# and with the values in their normal state \n",
    "\n",
    "# A large decrease in model performance when shuffled would indicate this as an input variable\n",
    "# with high level of importance to our predictions and this approach is often preferred\n",
    "# over standard feature importance method that we used above that measures the improvement of mean squared error\n",
    "# as this can sometimes inflate the importance of numerical features\n",
    "\n",
    "# but both methods are useful and in most cases will give fairly similar results\n",
    "\n",
    "\n",
    "result = permutation_importance(regressor,X_test,y_test,n_repeats=10, random_state=42)\n",
    "# n_repeat = specifies how many times we have to apply this random shuffling to each variable\n",
    "print(result)"
   ]
  },
  {
   "cell_type": "code",
   "execution_count": 26,
   "id": "fbdae529",
   "metadata": {},
   "outputs": [
    {
     "name": "stdout",
     "output_type": "stream",
     "text": [
      "        input_variables  permutation_importance\n",
      "1                gender                0.001122\n",
      "7  average_basket_value                0.004240\n",
      "6    product_area_count                0.008091\n",
      "4           total_items                0.018133\n",
      "5     transaction_count                0.043482\n",
      "2          credit_score                0.117426\n",
      "3           total_sales                0.128328\n",
      "0   distance_from_store                1.454102\n"
     ]
    },
    {
     "data": {
      "image/png": "[encoded data removed]",
      "text/plain": [
       "<Figure size 432x288 with 1 Axes>"
      ]
     },
     "metadata": {
      "needs_background": "light"
     },
     "output_type": "display_data"
    }
   ],
   "source": [
    "permutation_importance = pd.DataFrame(result[\"importances_mean\"])\n",
    "feature_names = pd.DataFrame(X.columns)\n",
    "permutation_importance_summary = pd.concat([feature_names,permutation_importance],axis=1)\n",
    "permutation_importance_summary.columns=['input_variables','permutation_importance']\n",
    "permutation_importance_summary.sort_values(by='permutation_importance',inplace=True)\n",
    "print(permutation_importance_summary)\n",
    "\n",
    "plt.barh(permutation_importance_summary['input_variables'],permutation_importance_summary['permutation_importance'])\n",
    "plt.title('permutation_importance of Random Forest')\n",
    "plt.xlabel('permutation_importance')\n",
    "plt.tight_layout()\n",
    "plt.show()"
   ]
  },
  {
   "cell_type": "code",
   "execution_count": 27,
   "id": "88a4db73",
   "metadata": {},
   "outputs": [],
   "source": [
    "# the differences are not major, there are couple of swaps of position i.e credit_score & total_sales are swapped\n",
    "# its kind of interesting that distance from store in this approach is proportionally more important than it did\n",
    "# in the first approach\n",
    "\n",
    "# as i said both are methods are useful , the results are fairly similar\n",
    "# what we are really after is way to understand what is driving the predictions in our model, \n",
    "# i think both ways offer up pretty similar narrative\n",
    "\n",
    "# in general permutation approach is slightly superior approach , if you want to go with one of \n",
    "# approaches, then permutation you can choose\n",
    "\n",
    "# Just remember to explain exactly how it works to the stakeholders so they understand it and they\n",
    "# will be comfortable moving forward.\n"
   ]
  },
  {
   "cell_type": "code",
   "execution_count": 31,
   "id": "a356ba91",
   "metadata": {},
   "outputs": [
    {
     "name": "stdout",
     "output_type": "stream",
     "text": [
      "0.22430000000000014\n",
      "[distance_from_store        2.270000\n",
      "credit_score               0.490000\n",
      "total_sales             1506.490000\n",
      "total_items              281.000000\n",
      "transaction_count         47.000000\n",
      "product_area_count         3.000000\n",
      "average_basket_value      32.052979\n",
      "gender_M                   0.000000\n",
      "Name: 0, dtype: float64]\n"
     ]
    }
   ],
   "source": [
    "# predictions under the hood\n",
    "\n",
    "print(y_pred[0])\n",
    "new_data = [X_test.iloc[0]]\n",
    "print(new_data)\n"
   ]
  },
  {
   "cell_type": "code",
   "execution_count": 30,
   "id": "a89e7079",
   "metadata": {},
   "outputs": [
    {
     "data": {
      "text/plain": [
       "[DecisionTreeRegressor(max_features='auto', random_state=1608637542),\n",
       " DecisionTreeRegressor(max_features='auto', random_state=1273642419),\n",
       " DecisionTreeRegressor(max_features='auto', random_state=1935803228),\n",
       " DecisionTreeRegressor(max_features='auto', random_state=787846414),\n",
       " DecisionTreeRegressor(max_features='auto', random_state=996406378),\n",
       " DecisionTreeRegressor(max_features='auto', random_state=1201263687),\n",
       " DecisionTreeRegressor(max_features='auto', random_state=423734972),\n",
       " DecisionTreeRegressor(max_features='auto', random_state=415968276),\n",
       " DecisionTreeRegressor(max_features='auto', random_state=670094950),\n",
       " DecisionTreeRegressor(max_features='auto', random_state=1914837113),\n",
       " DecisionTreeRegressor(max_features='auto', random_state=669991378),\n",
       " DecisionTreeRegressor(max_features='auto', random_state=429389014),\n",
       " DecisionTreeRegressor(max_features='auto', random_state=249467210),\n",
       " DecisionTreeRegressor(max_features='auto', random_state=1972458954),\n",
       " DecisionTreeRegressor(max_features='auto', random_state=1572714583),\n",
       " DecisionTreeRegressor(max_features='auto', random_state=1433267572),\n",
       " DecisionTreeRegressor(max_features='auto', random_state=434285667),\n",
       " DecisionTreeRegressor(max_features='auto', random_state=613608295),\n",
       " DecisionTreeRegressor(max_features='auto', random_state=893664919),\n",
       " DecisionTreeRegressor(max_features='auto', random_state=648061058),\n",
       " DecisionTreeRegressor(max_features='auto', random_state=88409749),\n",
       " DecisionTreeRegressor(max_features='auto', random_state=242285876),\n",
       " DecisionTreeRegressor(max_features='auto', random_state=2018247425),\n",
       " DecisionTreeRegressor(max_features='auto', random_state=953477463),\n",
       " DecisionTreeRegressor(max_features='auto', random_state=1427830251),\n",
       " DecisionTreeRegressor(max_features='auto', random_state=1883569565),\n",
       " DecisionTreeRegressor(max_features='auto', random_state=911989541),\n",
       " DecisionTreeRegressor(max_features='auto', random_state=3344769),\n",
       " DecisionTreeRegressor(max_features='auto', random_state=780932287),\n",
       " DecisionTreeRegressor(max_features='auto', random_state=2114032571),\n",
       " DecisionTreeRegressor(max_features='auto', random_state=787716372),\n",
       " DecisionTreeRegressor(max_features='auto', random_state=504579232),\n",
       " DecisionTreeRegressor(max_features='auto', random_state=1306710475),\n",
       " DecisionTreeRegressor(max_features='auto', random_state=479546681),\n",
       " DecisionTreeRegressor(max_features='auto', random_state=106328085),\n",
       " DecisionTreeRegressor(max_features='auto', random_state=30349564),\n",
       " DecisionTreeRegressor(max_features='auto', random_state=1855189739),\n",
       " DecisionTreeRegressor(max_features='auto', random_state=99052376),\n",
       " DecisionTreeRegressor(max_features='auto', random_state=1250819632),\n",
       " DecisionTreeRegressor(max_features='auto', random_state=106406362),\n",
       " DecisionTreeRegressor(max_features='auto', random_state=480404538),\n",
       " DecisionTreeRegressor(max_features='auto', random_state=1717389822),\n",
       " DecisionTreeRegressor(max_features='auto', random_state=599121577),\n",
       " DecisionTreeRegressor(max_features='auto', random_state=200427519),\n",
       " DecisionTreeRegressor(max_features='auto', random_state=1254751707),\n",
       " DecisionTreeRegressor(max_features='auto', random_state=2034764475),\n",
       " DecisionTreeRegressor(max_features='auto', random_state=1573512143),\n",
       " DecisionTreeRegressor(max_features='auto', random_state=999745294),\n",
       " DecisionTreeRegressor(max_features='auto', random_state=1958805693),\n",
       " DecisionTreeRegressor(max_features='auto', random_state=389151677),\n",
       " DecisionTreeRegressor(max_features='auto', random_state=1224821422),\n",
       " DecisionTreeRegressor(max_features='auto', random_state=508464061),\n",
       " DecisionTreeRegressor(max_features='auto', random_state=857592370),\n",
       " DecisionTreeRegressor(max_features='auto', random_state=1642661739),\n",
       " DecisionTreeRegressor(max_features='auto', random_state=61136438),\n",
       " DecisionTreeRegressor(max_features='auto', random_state=2075460851),\n",
       " DecisionTreeRegressor(max_features='auto', random_state=396917567),\n",
       " DecisionTreeRegressor(max_features='auto', random_state=2004731384),\n",
       " DecisionTreeRegressor(max_features='auto', random_state=199502978),\n",
       " DecisionTreeRegressor(max_features='auto', random_state=1545932260),\n",
       " DecisionTreeRegressor(max_features='auto', random_state=461901618),\n",
       " DecisionTreeRegressor(max_features='auto', random_state=774414982),\n",
       " DecisionTreeRegressor(max_features='auto', random_state=732395540),\n",
       " DecisionTreeRegressor(max_features='auto', random_state=1934879560),\n",
       " DecisionTreeRegressor(max_features='auto', random_state=279394470),\n",
       " DecisionTreeRegressor(max_features='auto', random_state=56972561),\n",
       " DecisionTreeRegressor(max_features='auto', random_state=1927948675),\n",
       " DecisionTreeRegressor(max_features='auto', random_state=1899242072),\n",
       " DecisionTreeRegressor(max_features='auto', random_state=1999874363),\n",
       " DecisionTreeRegressor(max_features='auto', random_state=271820813),\n",
       " DecisionTreeRegressor(max_features='auto', random_state=1324556529),\n",
       " DecisionTreeRegressor(max_features='auto', random_state=1655351289),\n",
       " DecisionTreeRegressor(max_features='auto', random_state=1308306184),\n",
       " DecisionTreeRegressor(max_features='auto', random_state=68574553),\n",
       " DecisionTreeRegressor(max_features='auto', random_state=419498548),\n",
       " DecisionTreeRegressor(max_features='auto', random_state=991681409),\n",
       " DecisionTreeRegressor(max_features='auto', random_state=791274835),\n",
       " DecisionTreeRegressor(max_features='auto', random_state=1035196507),\n",
       " DecisionTreeRegressor(max_features='auto', random_state=1890440558),\n",
       " DecisionTreeRegressor(max_features='auto', random_state=787110843),\n",
       " DecisionTreeRegressor(max_features='auto', random_state=524150214),\n",
       " DecisionTreeRegressor(max_features='auto', random_state=472432043),\n",
       " DecisionTreeRegressor(max_features='auto', random_state=2126768636),\n",
       " DecisionTreeRegressor(max_features='auto', random_state=1431061255),\n",
       " DecisionTreeRegressor(max_features='auto', random_state=147697582),\n",
       " DecisionTreeRegressor(max_features='auto', random_state=744595490),\n",
       " DecisionTreeRegressor(max_features='auto', random_state=1758017741),\n",
       " DecisionTreeRegressor(max_features='auto', random_state=1679592528),\n",
       " DecisionTreeRegressor(max_features='auto', random_state=1111451555),\n",
       " DecisionTreeRegressor(max_features='auto', random_state=782698033),\n",
       " DecisionTreeRegressor(max_features='auto', random_state=698027879),\n",
       " DecisionTreeRegressor(max_features='auto', random_state=1096768899),\n",
       " DecisionTreeRegressor(max_features='auto', random_state=1338788865),\n",
       " DecisionTreeRegressor(max_features='auto', random_state=1826030589),\n",
       " DecisionTreeRegressor(max_features='auto', random_state=86191493),\n",
       " DecisionTreeRegressor(max_features='auto', random_state=893102645),\n",
       " DecisionTreeRegressor(max_features='auto', random_state=200619113),\n",
       " DecisionTreeRegressor(max_features='auto', random_state=290770691),\n",
       " DecisionTreeRegressor(max_features='auto', random_state=793943861),\n",
       " DecisionTreeRegressor(max_features='auto', random_state=134489564)]"
      ]
     },
     "execution_count": 30,
     "metadata": {},
     "output_type": "execute_result"
    }
   ],
   "source": [
    "regressor.estimators_ ( these are the decision trees present under the hood of random forest)"
   ]
  },
  {
   "cell_type": "code",
   "execution_count": 35,
   "id": "565f0438",
   "metadata": {},
   "outputs": [
    {
     "name": "stdout",
     "output_type": "stream",
     "text": [
      "[0.201, 0.668, 0.117, 0.17, 0.17, 0.268, 0.17, 0.203, 0.23400000000000004, 0.17, 0.234, 0.12, 0.234, 0.174, 0.147, 0.352, 0.268, 0.234, 0.234, 0.234, 0.203, 0.17400000000000002, 0.12, 0.234, 0.177, 0.12, 0.314, 0.174, 0.234, 0.302, 0.352, 0.314, 0.234, 0.174, 0.116, 0.221, 0.147, 0.177, 0.203, 0.147, 0.12, 0.234, 0.234, 0.201, 0.177, 0.221, 0.203, 0.366, 0.17, 0.334, 0.366, 0.17, 0.448, 0.12, 0.234, 0.136, 0.23400000000000004, 0.17, 0.174, 0.201, 0.147, 0.201, 0.366, 0.344, 0.221, 0.17400000000000002, 0.234, 0.117, 0.177, 0.12, 0.42, 0.344, 0.12, 0.221, 0.17, 0.234, 0.17, 0.203, 0.234, 0.234, 0.314, 0.234, 0.234, 0.143, 0.17, 0.234, 0.201, 0.12, 0.174, 0.201, 0.35200000000000004, 0.234, 0.174, 0.506, 0.177, 0.352, 0.352, 0.147, 0.234, 0.174]\n",
      "0.22430000000000014\n"
     ]
    }
   ],
   "source": [
    "predictions = []\n",
    "tree_count = 0\n",
    "for tree in regressor.estimators_:\n",
    "    prediction=tree.predict(new_data)[0]\n",
    "    predictions.append(prediction)\n",
    "    tree_count+=1\n",
    "\n",
    "print(predictions) # shows 100 predictions for this customer from each decision tree of random forest\n",
    "\n",
    "print(sum(predictions)/len(predictions)) # we see its exactly same"
   ]
  },
  {
   "cell_type": "code",
   "execution_count": 33,
   "id": "d78c587c",
   "metadata": {},
   "outputs": [
    {
     "name": "stdout",
     "output_type": "stream",
     "text": [
      "0.22430000000000014\n"
     ]
    }
   ],
   "source": [
    "print(y_pred[0])"
   ]
  },
  {
   "cell_type": "code",
   "execution_count": 37,
   "id": "b870e5db",
   "metadata": {},
   "outputs": [],
   "source": [
    "import pickle\n",
    "\n",
    "pickle.dump(regressor,open(\"/Users/praju/Desktop/DSI/Untitled Folder/random_forest_regression_model.p\",'wb'))\n",
    "pickle.dump(one_hot_encoder,open(\"/Users/praju/Desktop/DSI/Untitled Folder/random_forest_regression_ohe.p\",'wb'))"
   ]
  },
  {
   "cell_type": "code",
   "execution_count": null,
   "id": "bb68a8d9",
   "metadata": {},
   "outputs": [],
   "source": []
  }
 ],
 "metadata": {
  "kernelspec": {
   "display_name": "Python 3 (ipykernel)",
   "language": "python",
   "name": "python3"
  },
  "language_info": {
   "codemirror_mode": {
    "name": "ipython",
    "version": 3
   },
   "file_extension": ".py",
   "mimetype": "text/x-python",
   "name": "python",
   "nbconvert_exporter": "python",
   "pygments_lexer": "ipython3",
   "version": "3.10.9"
  }
 },
 "nbformat": 4,
 "nbformat_minor": 5
}
