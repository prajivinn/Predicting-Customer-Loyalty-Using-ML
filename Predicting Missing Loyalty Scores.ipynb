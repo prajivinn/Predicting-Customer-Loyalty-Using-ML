{
 "cells": [
  {
   "cell_type": "code",
   "execution_count": 10,
   "id": "faf08753",
   "metadata": {},
   "outputs": [],
   "source": [
    "# import required packages\n",
    "import pandas as pd\n",
    "import pickle"
   ]
  },
  {
   "cell_type": "code",
   "execution_count": 12,
   "id": "6664f20b",
   "metadata": {},
   "outputs": [],
   "source": [
    "# import customers for scoring\n",
    "to_be_scored = pickle.load(open('/Users/praju/Desktop/DSI/Untitled Folder/Predicting_Customer_Loyalty_Using_ML/PCL/abc_regression_scoring.p', \"rb\"))\n",
    "\n",
    "# import model and model objects\n",
    "regressor = pickle.load(open('/Users/praju/Desktop/DSI/Untitled Folder/Predicting_Customer_Loyalty_Using_ML/PCL/random_forest_regression_model.p', \"rb\"))\n",
    "one_hot_encoder = pickle.load(open('/Users/praju/Desktop/DSI/Untitled Folder/Predicting_Customer_Loyalty_Using_ML/PCL/random_forest_regression_ohe.p', \"rb\"))\n",
    "\n"
   ]
  },
  {
   "cell_type": "code",
   "execution_count": 13,
   "id": "0ab33321",
   "metadata": {},
   "outputs": [
    {
     "name": "stdout",
     "output_type": "stream",
     "text": [
      "<class 'pandas.core.frame.DataFrame'>\n",
      "Int64Index: 470 entries, 6 to 867\n",
      "Data columns (total 9 columns):\n",
      " #   Column                Non-Null Count  Dtype  \n",
      "---  ------                --------------  -----  \n",
      " 0   customer_id           470 non-null    int64  \n",
      " 1   distance_from_store   467 non-null    float64\n",
      " 2   gender                468 non-null    object \n",
      " 3   credit_score          464 non-null    float64\n",
      " 4   total_sales           470 non-null    float64\n",
      " 5   total_items           470 non-null    int64  \n",
      " 6   transaction_count     470 non-null    int64  \n",
      " 7   product_area_count    470 non-null    int64  \n",
      " 8   average_basket_value  470 non-null    float64\n",
      "dtypes: float64(4), int64(4), object(1)\n",
      "memory usage: 36.7+ KB\n"
     ]
    }
   ],
   "source": [
    "to_be_scored.info()"
   ]
  },
  {
   "cell_type": "code",
   "execution_count": 14,
   "id": "d1122d26",
   "metadata": {},
   "outputs": [],
   "source": [
    "# drop unused columns\n",
    "to_be_scored.drop([\"customer_id\"], axis = 1, inplace = True)\n",
    "\n",
    "# drop missing values\n",
    "to_be_scored.dropna(how = \"any\", inplace = True)\n",
    "\n",
    "# apply one hot encoding (transform only)\n",
    "categorical_vars = [\"gender\"]\n",
    "encoder_vars_array = one_hot_encoder.transform(to_be_scored[categorical_vars])\n",
    "encoder_feature_names = one_hot_encoder.get_feature_names_out(categorical_vars)\n",
    "encoder_vars_df = pd.DataFrame(encoder_vars_array, columns = encoder_feature_names)\n",
    "to_be_scored = pd.concat([to_be_scored.reset_index(drop=True), encoder_vars_df.reset_index(drop=True)], axis = 1)\n",
    "to_be_scored.drop(categorical_vars, axis = 1, inplace = True)\n",
    "\n",
    "# make our predictions!\n",
    "loyalty_predictions = regressor.predict(to_be_scored)"
   ]
  },
  {
   "cell_type": "code",
   "execution_count": 15,
   "id": "7f44acb6",
   "metadata": {},
   "outputs": [
    {
     "data": {
      "text/plain": [
       "array([0.42696, 0.33022, 0.34719, 0.93087, 0.38542, 0.93569, 0.43395,\n",
       "       0.73691, 0.31208, 0.74169, 0.431  , 0.5154 , 0.44943, 0.49442,\n",
       "       0.5127 , 0.3517 , 0.80062, 0.27803, 0.91313, 0.39683, 0.28666,\n",
       "       0.57567, 0.45284, 0.308  , 0.65386, 0.42868, 0.54926, 0.90092,\n",
       "       0.5734 , 0.32754, 0.3556 , 0.41626, 0.47528, 0.5635 , 0.67158,\n",
       "       0.34012, 0.32949, 0.89287, 0.36622, 0.44524, 0.85183, 0.72498,\n",
       "       0.45031, 0.93599, 0.94519, 0.22366, 0.39662, 0.96097, 0.53929,\n",
       "       0.44219, 0.8682 , 0.86634, 0.7372 , 0.29143, 0.60642, 0.83962,\n",
       "       0.23929, 0.30148, 0.24274, 0.24399, 0.24705, 0.87329, 0.86802,\n",
       "       0.55599, 0.3938 , 0.57868, 0.9217 , 0.41026, 0.94455, 0.25684,\n",
       "       0.61691, 0.45253, 0.64507, 0.49411, 0.62413, 0.39843, 0.16517,\n",
       "       0.6164 , 0.79118, 0.54638, 0.28264, 0.29299, 0.30199, 0.71508,\n",
       "       0.57072, 0.2374 , 0.36925, 0.28816, 0.40419, 0.37507, 0.39396,\n",
       "       0.90286, 0.91231, 0.26975, 0.38543, 0.37877, 0.87769, 0.53562,\n",
       "       0.31401, 0.92022, 0.28415, 0.22467, 0.29811, 0.7216 , 0.70985,\n",
       "       0.44486, 0.80506, 0.51978, 0.29636, 0.85912, 0.93109, 0.29303,\n",
       "       0.27789, 0.37438, 0.24811, 0.24201, 0.21878, 0.51322, 0.28676,\n",
       "       0.88167, 0.63028, 0.2433 , 0.33982, 0.86955, 0.62152, 0.45838,\n",
       "       0.48186, 0.74885, 0.20373, 0.42852, 0.24584, 0.53781, 0.3997 ,\n",
       "       0.73547, 0.92983, 0.76077, 0.29758, 0.85058, 0.6461 , 0.16255,\n",
       "       0.47896, 0.18868, 0.51729, 0.82465, 0.80288, 0.50944, 0.67928,\n",
       "       0.17147, 0.40393, 0.53929, 0.40673, 0.36032, 0.34631, 0.19041,\n",
       "       0.29645, 0.54229, 0.77669, 0.22881, 0.56561, 0.80379, 0.10144,\n",
       "       0.09471, 0.09955, 0.14434, 0.09359, 0.19361, 0.25447, 0.29031,\n",
       "       0.36436, 0.36597, 0.38314, 0.78964, 0.20444, 0.77797, 0.15015,\n",
       "       0.20888, 0.34478, 0.17411, 0.88382, 0.10732, 0.09856, 0.22335,\n",
       "       0.904  , 0.5497 , 0.87578, 0.55508, 0.89142, 0.56532, 0.57058,\n",
       "       0.82009, 0.78766, 0.7467 , 0.26831, 0.50542, 0.44014, 0.27991,\n",
       "       0.21095, 0.15857, 0.4566 , 0.85375, 0.46463, 0.24415, 0.45152,\n",
       "       0.14224, 0.80031, 0.44706, 0.86744, 0.16325, 0.10844, 0.73571,\n",
       "       0.11241, 0.20611, 0.55891, 0.38637, 0.77804, 0.70519, 0.62437,\n",
       "       0.89597, 0.75444, 0.74834, 0.65419, 0.73492, 0.70541, 0.83293,\n",
       "       0.83501, 0.72203, 0.79301, 0.77518, 0.77658, 0.7517 , 0.8341 ,\n",
       "       0.88903, 0.66473, 0.69458, 0.75838, 0.77268, 0.77458, 0.84193,\n",
       "       0.57693, 0.72893, 0.76661, 0.8006 , 0.89353, 0.82548, 0.90152,\n",
       "       0.78061, 0.69399, 0.82633, 0.77871, 0.89444, 0.70504, 0.78187,\n",
       "       0.78617, 0.76236, 0.79908, 0.82676, 0.60623, 0.77442, 0.89034,\n",
       "       0.79343, 0.8619 , 0.79748, 0.81815, 0.86542, 0.75754, 0.88753,\n",
       "       0.74465, 0.39019, 0.73304, 0.45967, 0.47817, 0.82299, 0.41512,\n",
       "       0.56223, 0.44865, 0.39484, 0.56864, 0.45675, 0.84018, 0.51212,\n",
       "       0.51386, 0.67538, 0.52208, 0.58184, 0.68527, 0.59521, 0.60674,\n",
       "       0.42034, 0.79707, 0.47688, 0.8604 , 0.36057, 0.84164, 0.3668 ,\n",
       "       0.79427, 0.36109, 0.90318, 0.43342, 0.33075, 0.44041, 0.51287,\n",
       "       0.5045 , 0.45491, 0.40159, 0.58867, 0.78923, 0.80913, 0.38145,\n",
       "       0.80601, 0.56751, 0.35922, 0.84158, 0.68536, 0.76732, 0.66276,\n",
       "       0.75187, 0.46387, 0.72962, 0.40674, 0.36385, 0.1777 , 0.07137,\n",
       "       0.52469, 0.49615, 0.05384, 0.33145, 0.12534, 0.31739, 0.03746,\n",
       "       0.45155, 0.14642, 0.05015, 0.11259, 0.39101, 0.41657, 0.31623,\n",
       "       0.38067, 0.02086, 0.27241, 0.38581, 0.15543, 0.06649, 0.72873,\n",
       "       0.17811, 0.18166, 0.116  , 0.03018, 0.03254, 0.17954, 0.29353,\n",
       "       0.16486, 0.02819, 0.25335, 0.76088, 0.10452, 0.01112, 0.05617,\n",
       "       0.63596, 0.04514, 0.54469, 0.72229, 0.18276, 0.04149, 0.04696,\n",
       "       0.30295, 0.65064, 0.6522 , 0.06255, 0.06688, 0.55163, 0.26498,\n",
       "       0.04025, 0.38072, 0.14706, 0.25214, 0.40083, 0.06722, 0.0498 ,\n",
       "       0.27152, 0.76256, 0.27363, 0.01995, 0.20625, 0.15423, 0.0318 ,\n",
       "       0.4582 , 0.02292, 0.07035, 0.25789, 0.25466, 0.74238, 0.53389,\n",
       "       0.05179, 0.21558, 0.03513, 0.09157, 0.31674, 0.12871, 0.04491,\n",
       "       0.50676, 0.05787, 0.25786, 0.63488, 0.04615, 0.56148, 0.04273,\n",
       "       0.35445, 0.05087, 0.08514, 0.07699, 0.293  , 0.17431, 0.1729 ,\n",
       "       0.44585, 0.07502, 0.24699, 0.39697, 0.01646, 0.01149, 0.03101,\n",
       "       0.08836, 0.52285, 0.52424, 0.51683, 0.68185, 0.77372, 0.52222,\n",
       "       0.98309, 0.68836, 0.91302, 0.52805, 0.5443 , 0.72888, 0.91222,\n",
       "       0.54519, 0.51669, 0.61897, 0.55613, 0.91415, 0.85213, 0.77377,\n",
       "       0.72265, 0.35714, 0.67256, 0.45906, 0.9032 , 0.64607, 0.9382 ,\n",
       "       0.4622 , 0.83143, 0.95973, 0.67272, 0.58229, 0.41308, 0.6166 ,\n",
       "       0.89533, 0.95938, 0.71815, 0.36844, 0.93004, 0.68015, 0.37042,\n",
       "       0.61175])"
      ]
     },
     "execution_count": 15,
     "metadata": {},
     "output_type": "execute_result"
    }
   ],
   "source": [
    "loyalty_predictions"
   ]
  },
  {
   "cell_type": "code",
   "execution_count": 16,
   "id": "25d50618",
   "metadata": {},
   "outputs": [
    {
     "data": {
      "text/plain": [
       "463"
      ]
     },
     "execution_count": 16,
     "metadata": {},
     "output_type": "execute_result"
    }
   ],
   "source": [
    "len(loyalty_predictions)"
   ]
  },
  {
   "cell_type": "code",
   "execution_count": 17,
   "id": "7fe2548b",
   "metadata": {},
   "outputs": [
    {
     "name": "stdout",
     "output_type": "stream",
     "text": [
      "<class 'pandas.core.frame.DataFrame'>\n",
      "RangeIndex: 463 entries, 0 to 462\n",
      "Data columns (total 8 columns):\n",
      " #   Column                Non-Null Count  Dtype  \n",
      "---  ------                --------------  -----  \n",
      " 0   distance_from_store   463 non-null    float64\n",
      " 1   credit_score          463 non-null    float64\n",
      " 2   total_sales           463 non-null    float64\n",
      " 3   total_items           463 non-null    int64  \n",
      " 4   transaction_count     463 non-null    int64  \n",
      " 5   product_area_count    463 non-null    int64  \n",
      " 6   average_basket_value  463 non-null    float64\n",
      " 7   gender_M              463 non-null    float64\n",
      "dtypes: float64(5), int64(3)\n",
      "memory usage: 29.1 KB\n"
     ]
    }
   ],
   "source": [
    "to_be_scored.info()"
   ]
  },
  {
   "cell_type": "code",
   "execution_count": null,
   "id": "b857616f",
   "metadata": {},
   "outputs": [],
   "source": []
  }
 ],
 "metadata": {
  "kernelspec": {
   "display_name": "Python 3 (ipykernel)",
   "language": "python",
   "name": "python3"
  },
  "language_info": {
   "codemirror_mode": {
    "name": "ipython",
    "version": 3
   },
   "file_extension": ".py",
   "mimetype": "text/x-python",
   "name": "python",
   "nbconvert_exporter": "python",
   "pygments_lexer": "ipython3",
   "version": "3.10.9"
  }
 },
 "nbformat": 4,
 "nbformat_minor": 5
}
